{
 "cells": [
  {
   "cell_type": "markdown",
   "id": "fa916fef",
   "metadata": {},
   "source": [
    "# Planner Agent - plan and execute structured multistep tasks\n",
    "\n",
    "We know the steps needs to be done ahead of time\n",
    "\n",
    "user input -> planner -> executer (execute step by step and append the results in the intermediate messages) -> synthesizer -> output"
   ]
  },
  {
   "cell_type": "markdown",
   "id": "224036b2",
   "metadata": {},
   "source": [
    "## 0. Imports"
   ]
  },
  {
   "cell_type": "code",
   "execution_count": null,
   "id": "9f3579c6",
   "metadata": {},
   "outputs": [],
   "source": [
    "import os\n",
    "\n",
    "from typing import List, TypedDict, Optional, Annotated\n",
    "from pydantic import BaseModel, Field\n",
    "from dotenv import load_dotenv\n",
    "load_dotenv(override=True)\n",
    "\n",
    "\n",
    "import json\n",
    "from langchain_core.messages import AIMessage, HumanMessage\n",
    "\n",
    "from langchain_tavily import TavilySearch\n",
    "from langchain_nebius import ChatNebius\n",
    "from langchain.tools import tool\n",
    "from langchain_core.messages import AnyMessage, BaseMessage\n",
    "from langgraph.graph import StateGraph, END\n",
    "from langgraph.graph.message import add_messages\n",
    "from langgraph.prebuilt import ToolNode \n",
    "\n",
    "# For pretty printing\n",
    "from rich.console import Console\n",
    "from rich.markdown import Markdown\n",
    "\n",
    "console = Console()"
   ]
  },
  {
   "cell_type": "code",
   "execution_count": null,
   "id": "82e89517",
   "metadata": {},
   "outputs": [],
   "source": [
    "for key in ['TAVILY_API_KEY', 'TAVILY_API_KEY', 'NEBIUS_API_KEY']:\n",
    "    if key not in os.environ:\n",
    "        raise ValueError(f\"Environment variable {key} is not set\")"
   ]
  },
  {
   "cell_type": "markdown",
   "id": "f03d40d5",
   "metadata": {},
   "source": [
    "## 1. Setups"
   ]
  },
  {
   "cell_type": "code",
   "execution_count": null,
   "id": "ae5ce6e5",
   "metadata": {},
   "outputs": [],
   "source": [
    "import json\n",
    "from pathlib import Path\n",
    "\n",
    "# Create jobs directory if it doesn't exist\n",
    "JOBS_DIR = Path(\"data/jobs\")\n",
    "JOBS_DIR.mkdir(exist_ok=True)\n",
    "\n",
    "@tool\n",
    "def load_job_by_title(job_title: str) -> str:\n",
    "    \"\"\"Load a job description by job title from the jobs directory\"\"\"\n",
    "    # Search for files that contain the job title in their filename\n",
    "    job_files = list(JOBS_DIR.glob(\"*.json\"))\n",
    "    \n",
    "    for job_file in job_files:\n",
    "        # Check if job title matches filename (case-insensitive)\n",
    "        if job_title.lower() in job_file.stem.lower():\n",
    "            with open(job_file, 'r') as f:\n",
    "                job_data = json.load(f)\n",
    "            return f\"\"\"Job: {job_data.get('title', 'Unknown')}\n",
    "Company: {job_data.get('company', 'Unknown')}\n",
    "Location: {job_data.get('location', 'Unknown')}\n",
    "Description: {job_data.get('description', '')}\n",
    "Requirements: {', '.join(job_data.get('requirements', []))}\n",
    "Responsibilities: {', '.join(job_data.get('responsibilities', []))}\n",
    "Salary: {job_data.get('salary_range', 'Not specified')}\n",
    "Employment Type: {job_data.get('employment_type', 'Not specified')}\n",
    "Experience Level: {job_data.get('experience_level', 'Not specified')}\"\"\"\n",
    "    \n",
    "    return f\"Job with title '{job_title}' not found in directory\"\n",
    "\n",
    "@tool\n",
    "def search_jobs_by_title(job_title: str) -> str:\n",
    "    \"\"\"Search for jobs by partial title match\"\"\"\n",
    "    matching_jobs = []\n",
    "    job_files = list(JOBS_DIR.glob(\"*.json\"))\n",
    "    \n",
    "    for job_file in job_files:\n",
    "        with open(job_file, 'r') as f:\n",
    "            job_data = json.load(f)\n",
    "        \n",
    "        # Check if job title contains the search term\n",
    "        if job_title.lower() in job_data.get('title', '').lower():\n",
    "            matching_jobs.append(f\"- {job_data.get('title', 'Unknown')} at {job_data.get('company', 'Unknown')} (File: {job_file.stem})\")\n",
    "    \n",
    "    return f\"Jobs matching '{job_title}':\\n\" + \"\\n\".join(matching_jobs) if matching_jobs else f\"No jobs found matching '{job_title}'\"\n",
    "\n",
    "@tool\n",
    "def list_all_jobs() -> str:\n",
    "    \"\"\"List all available jobs with their titles and companies\"\"\"\n",
    "    job_files = list(JOBS_DIR.glob(\"*.json\"))\n",
    "    if not job_files:\n",
    "        return \"No jobs found in directory\"\n",
    "    \n",
    "    jobs = []\n",
    "    for job_file in job_files:\n",
    "        with open(job_file, 'r') as f:\n",
    "            job_data = json.load(f)\n",
    "        jobs.append(f\"- {job_data.get('title', 'Unknown')} at {job_data.get('company', 'Unknown')} (File: {job_file.stem})\")\n",
    "    \n",
    "    return \"Available jobs:\\n\" + \"\\n\".join(jobs)\n",
    "\n",
    "@tool\n",
    "def get_job_by_filename(filename: str) -> str:\n",
    "    \"\"\"Get job details by exact filename (without .json extension)\"\"\"\n",
    "    job_file = JOBS_DIR / f\"{filename}.json\"\n",
    "    if job_file.exists():\n",
    "        with open(job_file, 'r') as f:\n",
    "            job_data = json.load(f)\n",
    "        return f\"\"\"Job: {job_data.get('title', 'Unknown')}\n",
    "Company: {job_data.get('company', 'Unknown')}\n",
    "Location: {job_data.get('location', 'Unknown')}\n",
    "Description: {job_data.get('description', '')}\n",
    "Requirements: {', '.join(job_data.get('requirements', []))}\n",
    "Responsibilities: {', '.join(job_data.get('responsibilities', []))}\n",
    "Salary: {job_data.get('salary_range', 'Not specified')}\n",
    "Employment Type: {job_data.get('employment_type', 'Not specified')}\n",
    "Experience Level: {job_data.get('experience_level', 'Not specified')}\"\"\"\n",
    "    else:\n",
    "        return f\"Job file '{filename}.json' not found\"\n",
    "\n",
    "@tool\n",
    "def search_jobs_by_criteria(criteria: str) -> str:\n",
    "    \"\"\"Search jobs by specific criteria (skills, location, etc.)\"\"\"\n",
    "    matching_jobs = []\n",
    "    for job_file in JOBS_DIR.glob(\"*.json\"):\n",
    "        with open(job_file, 'r') as f:\n",
    "            job_data = json.load(f)\n",
    "        \n",
    "        # Search in title, description, requirements, and responsibilities\n",
    "        searchable_text = f\"{job_data.get('title', '')} {job_data.get('description', '')} {job_data.get('location', '')} {' '.join(job_data.get('requirements', []))} {' '.join(job_data.get('responsibilities', []))}\".lower()\n",
    "        \n",
    "        if any(keyword.lower() in searchable_text for keyword in criteria.split()):\n",
    "            matching_jobs.append(f\"- {job_data.get('title', 'Unknown')} at {job_data.get('company', 'Unknown')} (File: {job_file.stem})\")\n",
    "    \n",
    "    return f\"Jobs matching '{criteria}':\\n\" + \"\\n\".join(matching_jobs) if matching_jobs else f\"No jobs found matching '{criteria}'\""
   ]
  },
  {
   "cell_type": "code",
   "execution_count": null,
   "id": "3e7c1863",
   "metadata": {},
   "outputs": [],
   "source": [
    "def job_aware_executor_node(state: PlannerState) -> PlannerState:\n",
    "    \"\"\"Executor that handles both general and job-specific steps.\"\"\"\n",
    "    console.print(\"--- EXECUTOR: Running next step... ---\")\n",
    "\n",
    "    plan = state[\"plan\"] or []\n",
    "    if not plan:\n",
    "        return {\"plan\": []}\n",
    "\n",
    "    next_step = plan[0]\n",
    "    \n",
    "    # Route to appropriate handler\n",
    "    if next_step.startswith(\"web_search_tool\"):\n",
    "        # Web search logic\n",
    "        import re\n",
    "        m = re.search(r'web_search_tool\\(\"(.+?)\"\\)', next_step)\n",
    "        if not m:\n",
    "            m = re.search(r\"web_search_tool\\('(.+?)'\\)\", next_step)\n",
    "        if m:\n",
    "            query = m.group(1)\n",
    "            response = web_search_tool.invoke(query)\n",
    "        else:\n",
    "            response = \"Error: Could not parse web search query\"\n",
    "            \n",
    "    elif next_step.startswith(\"load_job_by_title\"):\n",
    "        # Load job by title\n",
    "        import re\n",
    "        m = re.search(r'load_job_by_title\\(\"(.+?)\"\\)', next_step)\n",
    "        if m:\n",
    "            response = load_job_by_title.invoke(m.group(1))\n",
    "        else:\n",
    "            response = \"Error: Could not parse job title\"\n",
    "            \n",
    "    elif next_step.startswith(\"search_jobs_by_title\"):\n",
    "        # Search jobs by title\n",
    "        import re\n",
    "        m = re.search(r'search_jobs_by_title\\(\"(.+?)\"\\)', next_step)\n",
    "        if m:\n",
    "            response = search_jobs_by_title.invoke(m.group(1))\n",
    "        else:\n",
    "            response = \"Error: Could not parse search term\"\n",
    "            \n",
    "    elif next_step.startswith(\"list_all_jobs\"):\n",
    "        # List all jobs\n",
    "        response = list_all_jobs.invoke({})\n",
    "        \n",
    "    elif next_step.startswith(\"get_job_by_filename\"):\n",
    "        # Get job by filename\n",
    "        import re\n",
    "        m = re.search(r'get_job_by_filename\\(\"(.+?)\"\\)', next_step)\n",
    "        if m:\n",
    "            response = get_job_by_filename.invoke(m.group(1))\n",
    "        else:\n",
    "            response = \"Error: Could not parse filename\"\n",
    "            \n",
    "    elif next_step.startswith(\"search_jobs_by_criteria\"):\n",
    "        # Search jobs by criteria\n",
    "        import re\n",
    "        m = re.search(r'search_jobs_by_criteria\\(\"(.+?)\"\\)', next_step)\n",
    "        if m:\n",
    "            response = search_jobs_by_criteria.invoke(m.group(1))\n",
    "        else:\n",
    "            response = \"Error: Could not parse search criteria\"\n",
    "            \n",
    "    else:\n",
    "        # General reasoning with job context\n",
    "        job_prompt = f\"\"\"\n",
    "        You are a recruitment and job analysis expert. Process this step:\n",
    "        \n",
    "        Step: {next_step}\n",
    "        \n",
    "        Provide expert analysis and recommendations. If this involves job analysis, \n",
    "        consider using the available job tools to get specific information.\n",
    "        \"\"\"\n",
    "        response = llm.invoke(job_prompt).content\n",
    "\n",
    "    console.print(f\"--- EXECUTOR: {response[:100]}... ---\")\n",
    "\n",
    "    return {\n",
    "        \"plan\": state[\"plan\"][1:],\n",
    "        \"intermediate_messages\": (state.get(\"intermediate_messages\") or []) + [response]\n",
    "    }"
   ]
  },
  {
   "cell_type": "code",
   "execution_count": 30,
   "id": "b8091203",
   "metadata": {},
   "outputs": [],
   "source": [
    "web_search = TavilySearch(api_key=os.environ[\"TAVILY_API_KEY\"], max_results=2)\n",
    "\n",
    "web_search.name = \"web_search\"\n",
    "web_search.description = \"Search the web for information\"\n",
    "\n",
    "@tool\n",
    "def web_search_tool(query: str) -> str:\n",
    "    \"\"\"Search the web for information\"\"\"\n",
    "    response = web_search.invoke(query)\n",
    "    return str(response)\n",
    "\n",
    "\n",
    "llm = ChatNebius(model=\"Qwen/Qwen3-14B\", api_key=os.environ[\"NEBIUS_API_KEY\"])\n",
    "# Add job tools to your tool list\n",
    "llm_with_tools = llm.bind_tools([\n",
    "    web_search_tool, \n",
    "    load_job_by_title, \n",
    "    search_jobs_by_title,\n",
    "    list_all_jobs,\n",
    "    get_job_by_filename,\n",
    "    search_jobs_by_criteria\n",
    "])"
   ]
  },
  {
   "cell_type": "code",
   "execution_count": 35,
   "id": "4773c8c1",
   "metadata": {},
   "outputs": [],
   "source": [
    "class Plan(BaseModel):\n",
    "    \"\"\"\n",
    "    A structured plan for a multi-step task\n",
    "    \"\"\"\n",
    "    steps: List[str] = Field(description=\"A list of tool calls that, when executed, will answer the query.\")\n",
    "\n",
    "class PlannerState(TypedDict):\n",
    "    \"\"\"\n",
    "    The state of the planner agent\n",
    "    \"\"\"\n",
    "    user_input: str\n",
    "    plan: Optional[List[str]] = None\n",
    "    intermediate_messages: Optional[List[str]] = None\n",
    "    messages: Annotated[List[BaseMessage], add_messages]\n",
    "    final_output: Optional[str] = None\n",
    "\n",
    "def planner_node(state: PlannerState) -> PlannerState:\n",
    "    \"\"\"\n",
    "    Plan the steps for the task\n",
    "    \"\"\"\n",
    "    console.print(\"--- PLANNER: Decomposing task... ---\")\n",
    "    PLANNER_SYSTEM = (\n",
    "        \"You are a planning agent with access to job data. Break down the task into steps. \"\n",
    "        \"Available tools: \"\n",
    "        \"- 'web_search_tool(\\\"query\\\")' for external information \"\n",
    "        \"- 'load_job_by_title(\\\"job_title\\\")' to load a job by its title \"\n",
    "        \"- 'search_jobs_by_title(\\\"partial_title\\\")' to search for jobs by partial title \"\n",
    "        \"- 'list_all_jobs()' to see all available jobs \"\n",
    "        \"- 'get_job_by_filename(\\\"filename\\\")' to load job by exact filename \"\n",
    "        \"- 'search_jobs_by_criteria(\\\"criteria\\\")' to find relevant jobs \"\n",
    "        \"When you have enough information to plan, output ONLY JSON: {\\\"steps\\\": [\\\"...\\\"]} with 4–7 concrete steps.\"\n",
    "    )\n",
    "    msgs = state.get(\"messages\") or []\n",
    "    if not msgs:\n",
    "        # seed the conversation for the planner\n",
    "        msgs = [\n",
    "            HumanMessage(\n",
    "                content=f\"{PLANNER_SYSTEM}\\n\\nTask: {state['user_input']}\"\n",
    "            )\n",
    "        ]\n",
    "\n",
    "    # Let the planner take a turn. If it needs the tool it will emit tool_calls.\n",
    "    planner_llm = llm.with_structured_output(Plan)\n",
    "\n",
    "    ai = planner_llm.invoke(msgs)\n",
    "\n",
    "    # Return only the new AI turn; add_messages merges it into the running history.\n",
    "    console.print(f\"--- PLANNER: Generated Plan: {ai} ---\")\n",
    "\n",
    "    return {\"plan\": ai.steps}\n",
    "\n",
    "def executor_node(state: PlannerState) -> PlannerState:\n",
    "    \"\"\"Executes the next step in the plan.\"\"\"\n",
    "    console.print(\"--- EXECUTOR: Running next step... ---\")\n",
    "\n",
    "    plan = state[\"plan\"] or []\n",
    "\n",
    "    if not plan:\n",
    "        return {\"plan\": []}\n",
    "\n",
    "    next_step = plan[0]\n",
    "    \n",
    "    # Check if this step requires a tool call\n",
    "    if next_step.startswith(\"web_search_tool\"):\n",
    "        # Handle web search tool call\n",
    "        import re\n",
    "        m = re.search(r'web_search_tool\\(\"(.+?)\"\\)', next_step)\n",
    "        if not m:\n",
    "            m = re.search(r\"web_search_tool\\('(.+?)'\\)\", next_step)\n",
    "        if m:\n",
    "            query = m.group(1)\n",
    "            response = web_search_tool.invoke(query)\n",
    "        else:\n",
    "            response = \"Error: Could not parse web search query\"\n",
    "    else:\n",
    "        # Handle non-tool steps (direct reasoning, calculations, etc.)\n",
    "        console.print(f\"--- EXECUTOR: Processing non-tool step: {next_step} ---\")\n",
    "        \n",
    "        # Use LLM to process the step without tools\n",
    "        step_prompt = f\"\"\"\n",
    "        You are executing a step in a plan. Process this step and provide a response.\n",
    "        \n",
    "        Step: {next_step}\n",
    "        \n",
    "        Provide a clear, concise response based on your knowledge. If you need external information, \n",
    "        indicate that a web search would be needed.\n",
    "        \"\"\"\n",
    "        \n",
    "        response = llm.invoke(step_prompt).content\n",
    "\n",
    "    console.print(f\"--- EXECUTOR: {response} ---\")\n",
    "\n",
    "    return {\n",
    "        \"plan\": state[\"plan\"][1:],\n",
    "        \"intermediate_messages\": (state.get(\"intermediate_messages\") or []) + [response]\n",
    "    }\n",
    "\n",
    "def synthesizer_node(state: PlannerState) -> PlannerState:\n",
    "    \"\"\"Synthesizes the intermediate messages into a final output.\"\"\"\n",
    "    console.print(\"--- SYNTHESIZER: Synthesizing... ---\")\n",
    "\n",
    "    context = \"\\n\".join(state[\"intermediate_messages\"] or [])    \n",
    "\n",
    "    prompt = f\"\"\"You are an expert synthesizer. Based on the user's input and the collected data, provide a comprehensive final answer.\n",
    "    \n",
    "    Request: {state['user_input']}\n",
    "    Collected Data:\n",
    "    {context}\n",
    "    \"\"\"\n",
    "    final_output = llm.invoke(prompt).content\n",
    "    return {\"final_output\": final_output}\n",
    "\n",
    "\n",
    "def router_after_planner(state: PlannerState) -> str:\n",
    "    msgs = state.get(\"messages\") or []\n",
    "    last = msgs[-1] if msgs else None\n",
    "    # If the last AI turn requested any tools, go to ToolNode; else, parse the plan.\n",
    "    return \"tools\" if getattr(last, \"tool_calls\", None) else \"executer\"\n",
    "\n",
    "def router_function(state: PlannerState) -> str:\n",
    "    if state.get(\"plan\"):\n",
    "        return \"executer\"\n",
    "    else:\n",
    "        return \"synthesizer\""
   ]
  },
  {
   "cell_type": "markdown",
   "id": "5fc8aacd",
   "metadata": {},
   "source": [
    "## Construct the graph"
   ]
  },
  {
   "cell_type": "code",
   "execution_count": 36,
   "id": "15d7989e",
   "metadata": {},
   "outputs": [],
   "source": [
    "graph_builder = StateGraph(PlannerState)\n",
    "\n",
    "graph_builder.add_node(\"planner\", planner_node)\n",
    "graph_builder.add_node(\"executer\", job_aware_executor_node)\n",
    "graph_builder.add_node(\"synthesizer\", synthesizer_node)\n",
    "\n",
    "graph_builder.set_entry_point(\"planner\")\n",
    "\n",
    "graph_builder.add_edge(\n",
    "    \"planner\",\n",
    "    \"executer\"\n",
    ")\n",
    "\n",
    "\n",
    "graph_builder.add_conditional_edges(\n",
    "    \"executer\",\n",
    "    router_function,   # returns \"executer\" if steps remain else \"synthesizer\"\n",
    "    {\"executer\": \"executer\", \"synthesizer\": \"synthesizer\"}\n",
    ")\n",
    "\n",
    "graph_builder.add_edge(\"synthesizer\", END)\n",
    "\n",
    "planner_agent = graph_builder.compile()\n"
   ]
  },
  {
   "cell_type": "code",
   "execution_count": 33,
   "id": "73521aad",
   "metadata": {},
   "outputs": [
    {
     "data": {
      "image/png": "[encoded data removed]",
      "text/plain": [
       "<IPython.core.display.Image object>"
      ]
     },
     "metadata": {},
     "output_type": "display_data"
    }
   ],
   "source": [
    "# This creates a PNG file of your graph\n",
    "try:\n",
    "    # Display the image in the notebook\n",
    "    from IPython.display import display, Image\n",
    "    png_image = planner_agent.get_graph().draw_mermaid_png()\n",
    "    display(Image(png_image))\n",
    "except Exception as e:\n",
    "    print(f\"Could not save image: {e}\")\n",
    "    print(\"You might need to install additional dependencies for image generation\")\n"
   ]
  },
  {
   "cell_type": "markdown",
   "id": "7574ba5c",
   "metadata": {},
   "source": [
    "## Test the code"
   ]
  },
  {
   "cell_type": "code",
   "execution_count": 38,
   "id": "de747970",
   "metadata": {},
   "outputs": [
    {
     "data": {
      "text/html": [
       "<pre style=\"white-space:pre;overflow-x:auto;line-height:normal;font-family:Menlo,'DejaVu Sans Mono',consolas,'Courier New',monospace\"><span style=\"color: #008000; text-decoration-color: #008000; font-weight: bold\">Testing with job data:</span> '\n",
       "Analyze the AI Enabling Specialist job at NVIDIA. \n",
       "Provide guidance for someone applying to this position, including the total recommended preparation time, including\n",
       "daily interview preparation schedule and tips.\n",
       "Use day <span style=\"color: #008080; text-decoration-color: #008080; font-weight: bold\">1</span> as a starting point.\n",
       "\n",
       "'\n",
       "\n",
       "</pre>\n"
      ],
      "text/plain": [
       "\u001b[1;32mTesting with job data:\u001b[0m '\n",
       "Analyze the AI Enabling Specialist job at NVIDIA. \n",
       "Provide guidance for someone applying to this position, including the total recommended preparation time, including\n",
       "daily interview preparation schedule and tips.\n",
       "Use day \u001b[1;36m1\u001b[0m as a starting point.\n",
       "\n",
       "'\n",
       "\n"
      ]
     },
     "metadata": {},
     "output_type": "display_data"
    },
    {
     "data": {
      "text/html": [
       "<pre style=\"white-space:pre;overflow-x:auto;line-height:normal;font-family:Menlo,'DejaVu Sans Mono',consolas,'Courier New',monospace\">--- PLANNER: Decomposing task<span style=\"color: #808000; text-decoration-color: #808000\">...</span> ---\n",
       "</pre>\n"
      ],
      "text/plain": [
       "--- PLANNER: Decomposing task\u001b[33m...\u001b[0m ---\n"
      ]
     },
     "metadata": {},
     "output_type": "display_data"
    },
    {
     "data": {
      "text/html": [
       "<pre style=\"white-space:pre;overflow-x:auto;line-height:normal;font-family:Menlo,'DejaVu Sans Mono',consolas,'Courier New',monospace\">--- PLANNER: Generated Plan: <span style=\"color: #808000; text-decoration-color: #808000\">steps</span>=<span style=\"font-weight: bold\">[</span><span style=\"color: #008000; text-decoration-color: #008000\">'web_search_tool(\"AI Enabling Specialist job description NVIDIA\")'</span>, \n",
       "<span style=\"color: #008000; text-decoration-color: #008000\">'load_job_by_title(\"AI Enabling Specialist\")'</span>, <span style=\"color: #008000; text-decoration-color: #008000\">'search_jobs_by_criteria(\"AI Enabling Specialist NVIDIA\")'</span>, \n",
       "<span style=\"color: #008000; text-decoration-color: #008000\">'list_all_jobs()'</span>, <span style=\"color: #008000; text-decoration-color: #008000\">'get_job_by_filename(\"ai_enabling_specialist_nvidia.json\")'</span>, <span style=\"color: #008000; text-decoration-color: #008000\">'search_jobs_by_title(\"AI Enabling </span>\n",
       "<span style=\"color: #008000; text-decoration-color: #008000\">Specialist\")'</span>, <span style=\"color: #008000; text-decoration-color: #008000\">'web_search_tool(\"How to prepare for AI Enabling Specialist interview NVIDIA\")'</span><span style=\"font-weight: bold\">]</span> ---\n",
       "</pre>\n"
      ],
      "text/plain": [
       "--- PLANNER: Generated Plan: \u001b[33msteps\u001b[0m=\u001b[1m[\u001b[0m\u001b[32m'web_search_tool\u001b[0m\u001b[32m(\u001b[0m\u001b[32m\"AI Enabling Specialist job description NVIDIA\"\u001b[0m\u001b[32m)\u001b[0m\u001b[32m'\u001b[0m, \n",
       "\u001b[32m'load_job_by_title\u001b[0m\u001b[32m(\u001b[0m\u001b[32m\"AI Enabling Specialist\"\u001b[0m\u001b[32m)\u001b[0m\u001b[32m'\u001b[0m, \u001b[32m'search_jobs_by_criteria\u001b[0m\u001b[32m(\u001b[0m\u001b[32m\"AI Enabling Specialist NVIDIA\"\u001b[0m\u001b[32m)\u001b[0m\u001b[32m'\u001b[0m, \n",
       "\u001b[32m'list_all_jobs\u001b[0m\u001b[32m(\u001b[0m\u001b[32m)\u001b[0m\u001b[32m'\u001b[0m, \u001b[32m'get_job_by_filename\u001b[0m\u001b[32m(\u001b[0m\u001b[32m\"ai_enabling_specialist_nvidia.json\"\u001b[0m\u001b[32m)\u001b[0m\u001b[32m'\u001b[0m, \u001b[32m'search_jobs_by_title\u001b[0m\u001b[32m(\u001b[0m\u001b[32m\"AI Enabling \u001b[0m\n",
       "\u001b[32mSpecialist\"\u001b[0m\u001b[32m)\u001b[0m\u001b[32m'\u001b[0m, \u001b[32m'web_search_tool\u001b[0m\u001b[32m(\u001b[0m\u001b[32m\"How to prepare for AI Enabling Specialist interview NVIDIA\"\u001b[0m\u001b[32m)\u001b[0m\u001b[32m'\u001b[0m\u001b[1m]\u001b[0m ---\n"
      ]
     },
     "metadata": {},
     "output_type": "display_data"
    },
    {
     "data": {
      "text/html": [
       "<pre style=\"white-space:pre;overflow-x:auto;line-height:normal;font-family:Menlo,'DejaVu Sans Mono',consolas,'Courier New',monospace\">--- EXECUTOR: Running next step<span style=\"color: #808000; text-decoration-color: #808000\">...</span> ---\n",
       "</pre>\n"
      ],
      "text/plain": [
       "--- EXECUTOR: Running next step\u001b[33m...\u001b[0m ---\n"
      ]
     },
     "metadata": {},
     "output_type": "display_data"
    },
    {
     "data": {
      "text/html": [
       "<pre style=\"white-space:pre;overflow-x:auto;line-height:normal;font-family:Menlo,'DejaVu Sans Mono',consolas,'Courier New',monospace\">--- EXECUTOR: <span style=\"font-weight: bold\">{</span><span style=\"color: #008000; text-decoration-color: #008000\">'query'</span>: <span style=\"color: #008000; text-decoration-color: #008000\">'AI Enabling Specialist job description NVIDIA'</span>, <span style=\"color: #008000; text-decoration-color: #008000\">'follow_up_questions'</span>: <span style=\"color: #800080; text-decoration-color: #800080; font-style: italic\">None</span>, <span style=\"color: #008000; text-decoration-color: #008000\">'answer'</span>: \n",
       "No<span style=\"color: #808000; text-decoration-color: #808000\">...</span> ---\n",
       "</pre>\n"
      ],
      "text/plain": [
       "--- EXECUTOR: \u001b[1m{\u001b[0m\u001b[32m'query'\u001b[0m: \u001b[32m'AI Enabling Specialist job description NVIDIA'\u001b[0m, \u001b[32m'follow_up_questions'\u001b[0m: \u001b[3;35mNone\u001b[0m, \u001b[32m'answer'\u001b[0m: \n",
       "No\u001b[33m...\u001b[0m ---\n"
      ]
     },
     "metadata": {},
     "output_type": "display_data"
    },
    {
     "data": {
      "text/html": [
       "<pre style=\"white-space:pre;overflow-x:auto;line-height:normal;font-family:Menlo,'DejaVu Sans Mono',consolas,'Courier New',monospace\">--- EXECUTOR: Running next step<span style=\"color: #808000; text-decoration-color: #808000\">...</span> ---\n",
       "</pre>\n"
      ],
      "text/plain": [
       "--- EXECUTOR: Running next step\u001b[33m...\u001b[0m ---\n"
      ]
     },
     "metadata": {},
     "output_type": "display_data"
    },
    {
     "data": {
      "text/html": [
       "<pre style=\"white-space:pre;overflow-x:auto;line-height:normal;font-family:Menlo,'DejaVu Sans Mono',consolas,'Courier New',monospace\">--- EXECUTOR: Job: AI Enabling Specialist - Finance\n",
       "Company: NVIDIA\n",
       "Location: US, AZ, Remote\n",
       "Description: NVIDIA i<span style=\"color: #808000; text-decoration-color: #808000\">...</span> ---\n",
       "</pre>\n"
      ],
      "text/plain": [
       "--- EXECUTOR: Job: AI Enabling Specialist - Finance\n",
       "Company: NVIDIA\n",
       "Location: US, AZ, Remote\n",
       "Description: NVIDIA i\u001b[33m...\u001b[0m ---\n"
      ]
     },
     "metadata": {},
     "output_type": "display_data"
    },
    {
     "data": {
      "text/html": [
       "<pre style=\"white-space:pre;overflow-x:auto;line-height:normal;font-family:Menlo,'DejaVu Sans Mono',consolas,'Courier New',monospace\">--- EXECUTOR: Running next step<span style=\"color: #808000; text-decoration-color: #808000\">...</span> ---\n",
       "</pre>\n"
      ],
      "text/plain": [
       "--- EXECUTOR: Running next step\u001b[33m...\u001b[0m ---\n"
      ]
     },
     "metadata": {},
     "output_type": "display_data"
    },
    {
     "data": {
      "text/html": [
       "<pre style=\"white-space:pre;overflow-x:auto;line-height:normal;font-family:Menlo,'DejaVu Sans Mono',consolas,'Courier New',monospace\">--- EXECUTOR: Jobs matching <span style=\"color: #008000; text-decoration-color: #008000\">'AI Enabling Specialist NVIDIA'</span>:\n",
       "- AI Enabling Specialist - Finance at NVIDIA <span style=\"font-weight: bold\">(</span>File: A<span style=\"color: #808000; text-decoration-color: #808000\">...</span> ---\n",
       "</pre>\n"
      ],
      "text/plain": [
       "--- EXECUTOR: Jobs matching \u001b[32m'AI Enabling Specialist NVIDIA'\u001b[0m:\n",
       "- AI Enabling Specialist - Finance at NVIDIA \u001b[1m(\u001b[0mFile: A\u001b[33m...\u001b[0m ---\n"
      ]
     },
     "metadata": {},
     "output_type": "display_data"
    },
    {
     "data": {
      "text/html": [
       "<pre style=\"white-space:pre;overflow-x:auto;line-height:normal;font-family:Menlo,'DejaVu Sans Mono',consolas,'Courier New',monospace\">--- EXECUTOR: Running next step<span style=\"color: #808000; text-decoration-color: #808000\">...</span> ---\n",
       "</pre>\n"
      ],
      "text/plain": [
       "--- EXECUTOR: Running next step\u001b[33m...\u001b[0m ---\n"
      ]
     },
     "metadata": {},
     "output_type": "display_data"
    },
    {
     "data": {
      "text/html": [
       "<pre style=\"white-space:pre;overflow-x:auto;line-height:normal;font-family:Menlo,'DejaVu Sans Mono',consolas,'Courier New',monospace\">--- EXECUTOR: Available jobs:\n",
       "- AI Enabling Specialist - Finance at NVIDIA <span style=\"font-weight: bold\">(</span>File: AI Enabling Specialist<span style=\"font-weight: bold\">)</span><span style=\"color: #808000; text-decoration-color: #808000\">...</span> ---\n",
       "</pre>\n"
      ],
      "text/plain": [
       "--- EXECUTOR: Available jobs:\n",
       "- AI Enabling Specialist - Finance at NVIDIA \u001b[1m(\u001b[0mFile: AI Enabling Specialist\u001b[1m)\u001b[0m\u001b[33m...\u001b[0m ---\n"
      ]
     },
     "metadata": {},
     "output_type": "display_data"
    },
    {
     "data": {
      "text/html": [
       "<pre style=\"white-space:pre;overflow-x:auto;line-height:normal;font-family:Menlo,'DejaVu Sans Mono',consolas,'Courier New',monospace\">--- EXECUTOR: Running next step<span style=\"color: #808000; text-decoration-color: #808000\">...</span> ---\n",
       "</pre>\n"
      ],
      "text/plain": [
       "--- EXECUTOR: Running next step\u001b[33m...\u001b[0m ---\n"
      ]
     },
     "metadata": {},
     "output_type": "display_data"
    },
    {
     "data": {
      "text/html": [
       "<pre style=\"white-space:pre;overflow-x:auto;line-height:normal;font-family:Menlo,'DejaVu Sans Mono',consolas,'Courier New',monospace\">--- EXECUTOR: Job file <span style=\"color: #008000; text-decoration-color: #008000\">'ai_enabling_specialist_nvidia.json.json'</span> not found<span style=\"color: #808000; text-decoration-color: #808000\">...</span> ---\n",
       "</pre>\n"
      ],
      "text/plain": [
       "--- EXECUTOR: Job file \u001b[32m'ai_enabling_specialist_nvidia.json.json'\u001b[0m not found\u001b[33m...\u001b[0m ---\n"
      ]
     },
     "metadata": {},
     "output_type": "display_data"
    },
    {
     "data": {
      "text/html": [
       "<pre style=\"white-space:pre;overflow-x:auto;line-height:normal;font-family:Menlo,'DejaVu Sans Mono',consolas,'Courier New',monospace\">--- EXECUTOR: Running next step<span style=\"color: #808000; text-decoration-color: #808000\">...</span> ---\n",
       "</pre>\n"
      ],
      "text/plain": [
       "--- EXECUTOR: Running next step\u001b[33m...\u001b[0m ---\n"
      ]
     },
     "metadata": {},
     "output_type": "display_data"
    },
    {
     "data": {
      "text/html": [
       "<pre style=\"white-space:pre;overflow-x:auto;line-height:normal;font-family:Menlo,'DejaVu Sans Mono',consolas,'Courier New',monospace\">--- EXECUTOR: Jobs matching <span style=\"color: #008000; text-decoration-color: #008000\">'AI Enabling Specialist'</span>:\n",
       "- AI Enabling Specialist - Finance at NVIDIA <span style=\"font-weight: bold\">(</span>File: AI Enabl<span style=\"color: #808000; text-decoration-color: #808000\">...</span> ---\n",
       "</pre>\n"
      ],
      "text/plain": [
       "--- EXECUTOR: Jobs matching \u001b[32m'AI Enabling Specialist'\u001b[0m:\n",
       "- AI Enabling Specialist - Finance at NVIDIA \u001b[1m(\u001b[0mFile: AI Enabl\u001b[33m...\u001b[0m ---\n"
      ]
     },
     "metadata": {},
     "output_type": "display_data"
    },
    {
     "data": {
      "text/html": [
       "<pre style=\"white-space:pre;overflow-x:auto;line-height:normal;font-family:Menlo,'DejaVu Sans Mono',consolas,'Courier New',monospace\">--- EXECUTOR: Running next step<span style=\"color: #808000; text-decoration-color: #808000\">...</span> ---\n",
       "</pre>\n"
      ],
      "text/plain": [
       "--- EXECUTOR: Running next step\u001b[33m...\u001b[0m ---\n"
      ]
     },
     "metadata": {},
     "output_type": "display_data"
    },
    {
     "data": {
      "text/html": [
       "<pre style=\"white-space:pre;overflow-x:auto;line-height:normal;font-family:Menlo,'DejaVu Sans Mono',consolas,'Courier New',monospace\">--- EXECUTOR: <span style=\"font-weight: bold\">{</span><span style=\"color: #008000; text-decoration-color: #008000\">'query'</span>: <span style=\"color: #008000; text-decoration-color: #008000\">'How to prepare for AI Enabling Specialist interview NVIDIA'</span>, <span style=\"color: #008000; text-decoration-color: #008000\">'follow_up_questions'</span>: \n",
       "<span style=\"color: #800080; text-decoration-color: #800080; font-style: italic\">None</span>,<span style=\"color: #808000; text-decoration-color: #808000\">...</span> ---\n",
       "</pre>\n"
      ],
      "text/plain": [
       "--- EXECUTOR: \u001b[1m{\u001b[0m\u001b[32m'query'\u001b[0m: \u001b[32m'How to prepare for AI Enabling Specialist interview NVIDIA'\u001b[0m, \u001b[32m'follow_up_questions'\u001b[0m: \n",
       "\u001b[3;35mNone\u001b[0m,\u001b[33m...\u001b[0m ---\n"
      ]
     },
     "metadata": {},
     "output_type": "display_data"
    },
    {
     "data": {
      "text/html": [
       "<pre style=\"white-space:pre;overflow-x:auto;line-height:normal;font-family:Menlo,'DejaVu Sans Mono',consolas,'Courier New',monospace\">--- SYNTHESIZER: Synthesizing<span style=\"color: #808000; text-decoration-color: #808000\">...</span> ---\n",
       "</pre>\n"
      ],
      "text/plain": [
       "--- SYNTHESIZER: Synthesizing\u001b[33m...\u001b[0m ---\n"
      ]
     },
     "metadata": {},
     "output_type": "display_data"
    },
    {
     "data": {
      "text/html": [
       "<pre style=\"white-space:pre;overflow-x:auto;line-height:normal;font-family:Menlo,'DejaVu Sans Mono',consolas,'Courier New',monospace\">\n",
       "--- <span style=\"color: #008000; text-decoration-color: #008000; font-weight: bold\">Final Output</span> ---\n",
       "</pre>\n"
      ],
      "text/plain": [
       "\n",
       "--- \u001b[1;32mFinal Output\u001b[0m ---\n"
      ]
     },
     "metadata": {},
     "output_type": "display_data"
    },
    {
     "data": {
      "text/html": [
       "<pre style=\"white-space:pre;overflow-x:auto;line-height:normal;font-family:Menlo,'DejaVu Sans Mono',consolas,'Courier New',monospace\">\n",
       "First, I need to structure the answer based on the job requirements. The role requires data engineering,           \n",
       "automation, project management, and skills in SQL, Python, Databricks. The responsibilities involve guiding finance\n",
       "teams, implementing AI tools, secure data integration, etc.                                                        \n",
       "\n",
       "The preparation time should account for the candidate's current skill level. Since it's a mid to senior role, maybe\n",
       "8-12 weeks for someone with relevant experience. But I should mention that it might vary.                          \n",
       "\n",
       "Daily schedule: Split into technical, business, and interview practice. Maybe 4-5 hours a day. Week 1-2: Focus on  \n",
       "technical skills. Week 3-4: Business processes and finance-specific knowledge. Weeks 5-8: Mock interviews and      \n",
       "networking.                                                                                                        \n",
       "\n",
       "Tips: Tailor the resume to the job description, highlight relevant projects, practice explaining technical         \n",
       "concepts, understand NVIDIA's tech stack, prepare for behavioral questions, and study machine learning fundamentals\n",
       "if needed.                                                                                                         \n",
       "\n",
       "Check if the resources from the collected data can be used. The NVIDIA tips suggest reading the job description and\n",
       "practicing technical skills. The interviewnode link mentions ML fundamentals and understanding the role.           \n",
       "\n",
       "Make sure to include the salary info and mention the equity and benefits as a motivator. Also, note the remote     \n",
       "option and location.                                                                                               \n",
       "\n",
       "Need to ensure that the schedule is realistic, not too intense. Also, include tips on networking and staying       \n",
       "updated with AI trends in finance. Maybe recommend Databricks certifications or courses if the candidate is weak in\n",
       "that area.                                                                                                         \n",
       "\n",
       "Avoid making the schedule too rigid but provide a structure. Emphasize the importance of both technical and soft   \n",
       "skills since communication is a key requirement.                                                                   \n",
       "\n",
       "Check for any missing info in the collected data. The job description is a bit brief, so maybe infer some          \n",
       "responsibilities from the role description. For example, secure data integration might involve knowledge of        \n",
       "compliance regulations, which is a good point to include in the preparation.                                       \n",
       "\n",
       "Also, the candidate needs to understand how AI is applied in finance, so suggesting reading case studies or        \n",
       "whitepapers on AI in financial processes could be helpful.                                                         \n",
       "\n",
       "\n",
       "Finally, wrap it up with a summary of key points and encouragement to stay consistent with the preparation plan.   \n",
       "\n",
       "<span style=\"font-weight: bold\">Comprehensive Guide to Applying for NVIDIA’s AI Enabling Specialist (Finance) Role</span>                                 \n",
       "<span style=\"font-style: italic\">Preparation Plan, Daily Schedule, and Key Tips</span>                                                                     \n",
       "\n",
       "<span style=\"color: #808000; text-decoration-color: #808000\">───────────────────────────────────────────────────────────────────────────────────────────────────────────────────</span>\n",
       "                                       <span style=\"font-weight: bold\">1. Total Recommended Preparation Time</span>                                       \n",
       "\n",
       "<span style=\"font-weight: bold\">8–12 weeks</span> (depending on current skill level and experience). This timeline balances deep technical preparation,   \n",
       "project-specific knowledge, and interview practice.                                                                \n",
       "\n",
       "<span style=\"color: #808000; text-decoration-color: #808000\">───────────────────────────────────────────────────────────────────────────────────────────────────────────────────</span>\n",
       "                                         <span style=\"font-weight: bold\">2. Key Requirements &amp; Focus Areas</span>                                         \n",
       "\n",
       "Based on the job description, prioritize these areas:                                                              \n",
       "\n",
       "<span style=\"color: #808000; text-decoration-color: #808000; font-weight: bold\"> • </span><span style=\"font-weight: bold\">Technical Skills</span>: SQL, Python, Databricks (or similar platforms), data engineering, automation, and machine     \n",
       "<span style=\"color: #808000; text-decoration-color: #808000; font-weight: bold\">   </span>learning (ML).                                                                                                  \n",
       "<span style=\"color: #808000; text-decoration-color: #808000; font-weight: bold\"> • </span><span style=\"font-weight: bold\">Business Acumen</span>: Finance processes, data-driven decision-making, and secure data integration.                   \n",
       "<span style=\"color: #808000; text-decoration-color: #808000; font-weight: bold\"> • </span><span style=\"font-weight: bold\">Soft Skills</span>: Communication, project management, and collaboration with cross-functional teams.                  \n",
       "<span style=\"color: #808000; text-decoration-color: #808000; font-weight: bold\"> • </span><span style=\"font-weight: bold\">Certifications</span>: Databricks certification, cloud platforms (Azure/AWS), or ML frameworks (e.g., TensorFlow,      \n",
       "<span style=\"color: #808000; text-decoration-color: #808000; font-weight: bold\">   </span>PyTorch).                                                                                                       \n",
       "\n",
       "<span style=\"color: #808000; text-decoration-color: #808000\">───────────────────────────────────────────────────────────────────────────────────────────────────────────────────</span>\n",
       "                                  <span style=\"font-weight: bold\">3. Daily Preparation Schedule (Day 1–12 Weeks)</span>                                   \n",
       "\n",
       "<span style=\"font-weight: bold\">Assumes 4–5 hours/day, 5–6 days/week.</span>                                                                              \n",
       "\n",
       "                                          <span style=\"color: #7f7f7f; text-decoration-color: #7f7f7f; font-weight: bold\">Week 1–2: Technical Foundations</span>                                          \n",
       "\n",
       "<span style=\"color: #808000; text-decoration-color: #808000; font-weight: bold\"> • </span><span style=\"font-weight: bold\">Daily Focus</span>: Strengthen core technical skills.                                                                  \n",
       "<span style=\"color: #808000; text-decoration-color: #808000; font-weight: bold\">    • </span><span style=\"font-weight: bold\">Morning (2 hours)</span>:                                                                                           \n",
       "<span style=\"color: #808000; text-decoration-color: #808000; font-weight: bold\">       • </span>SQL/Python practice (LeetCode, HackerRank, or Kaggle kernels).                                            \n",
       "<span style=\"color: #808000; text-decoration-color: #808000; font-weight: bold\">       • </span>Databricks tutorials (NVIDIA’s tech stack, Azure Databricks documentation).                               \n",
       "<span style=\"color: #808000; text-decoration-color: #808000; font-weight: bold\">    • </span><span style=\"font-weight: bold\">Afternoon (2 hours)</span>:                                                                                         \n",
       "<span style=\"color: #808000; text-decoration-color: #808000; font-weight: bold\">       • </span>Review ML concepts (scikit-learn, ML pipelines, RAG, AI agents).                                          \n",
       "<span style=\"color: #808000; text-decoration-color: #808000; font-weight: bold\">       • </span>Study NVIDIA’s AI tools (e.g., CUDA, TensorRT, RAPIDS) if relevant.                                       \n",
       "<span style=\"color: #808000; text-decoration-color: #808000; font-weight: bold\">    • </span><span style=\"font-weight: bold\">Evening (1 hour)</span>:                                                                                            \n",
       "<span style=\"color: #808000; text-decoration-color: #808000; font-weight: bold\">       • </span>Work on a personal project (e.g., automate financial data pipelines using Databricks).                    \n",
       "\n",
       "                                       <span style=\"color: #7f7f7f; text-decoration-color: #7f7f7f; font-weight: bold\">Week 3–4: Finance &amp; Business Context</span>                                        \n",
       "\n",
       "<span style=\"color: #808000; text-decoration-color: #808000; font-weight: bold\"> • </span><span style=\"font-weight: bold\">Daily Focus</span>: Bridge technical skills with finance applications.                                                 \n",
       "<span style=\"color: #808000; text-decoration-color: #808000; font-weight: bold\">    • </span><span style=\"font-weight: bold\">Morning (1.5 hours)</span>:                                                                                         \n",
       "<span style=\"color: #808000; text-decoration-color: #808000; font-weight: bold\">       • </span>Research AI applications in finance (e.g., fraud detection, risk modeling, automation).                   \n",
       "<span style=\"color: #808000; text-decoration-color: #808000; font-weight: bold\">       • </span>Study compliance frameworks (GDPR, SOX) for secure data integration.                                      \n",
       "<span style=\"color: #808000; text-decoration-color: #808000; font-weight: bold\">    • </span><span style=\"font-weight: bold\">Afternoon (2 hours)</span>:                                                                                         \n",
       "<span style=\"color: #808000; text-decoration-color: #808000; font-weight: bold\">       • </span>Analyze NVIDIA’s finance use cases (if available) or case studies on AI in finance.                       \n",
       "<span style=\"color: #808000; text-decoration-color: #808000; font-weight: bold\">       • </span>Practice explaining technical concepts to non-technical stakeholders.                                     \n",
       "<span style=\"color: #808000; text-decoration-color: #808000; font-weight: bold\">    • </span><span style=\"font-weight: bold\">Evening (1 hour)</span>:                                                                                            \n",
       "<span style=\"color: #808000; text-decoration-color: #808000; font-weight: bold\">       • </span>Update resume to highlight finance-relevant projects (e.g., “Designed an automated reporting system for a \n",
       "<span style=\"color: #808000; text-decoration-color: #808000; font-weight: bold\">         </span>financial client using Python and Databricks”).                                                           \n",
       "\n",
       "                                     <span style=\"color: #7f7f7f; text-decoration-color: #7f7f7f; font-weight: bold\">Week 5–8: Interview Practice &amp; Networking</span>                                     \n",
       "\n",
       "<span style=\"color: #808000; text-decoration-color: #808000; font-weight: bold\"> • </span><span style=\"font-weight: bold\">Daily Focus</span>: Mock interviews, behavioral prep, and industry alignment.                                          \n",
       "<span style=\"color: #808000; text-decoration-color: #808000; font-weight: bold\">    • </span><span style=\"font-weight: bold\">Morning (1.5 hours)</span>:                                                                                         \n",
       "<span style=\"color: #808000; text-decoration-color: #808000; font-weight: bold\">       • </span>Mock technical interviews (focus on Databricks, SQL, and ML).                                             \n",
       "<span style=\"color: #808000; text-decoration-color: #808000; font-weight: bold\">       • </span>Review NVIDIA’s “Top 5 Tips for AI Jobs” (emphasize articulating technical experience).                   \n",
       "<span style=\"color: #808000; text-decoration-color: #808000; font-weight: bold\">    • </span><span style=\"font-weight: bold\">Afternoon (2 hours)</span>:                                                                                         \n",
       "<span style=\"color: #808000; text-decoration-color: #808000; font-weight: bold\">       • </span>Practice behavioral questions (e.g., “Describe a time you led a cross-functional project”).               \n",
       "<span style=\"color: #808000; text-decoration-color: #808000; font-weight: bold\">       • </span>Study NVIDIA’s culture and recent AI/finance innovations (e.g., their work on AI-driven financial         \n",
       "<span style=\"color: #808000; text-decoration-color: #808000; font-weight: bold\">         </span>analytics).                                                                                               \n",
       "<span style=\"color: #808000; text-decoration-color: #808000; font-weight: bold\">    • </span><span style=\"font-weight: bold\">Evening (1 hour)</span>:                                                                                            \n",
       "<span style=\"color: #808000; text-decoration-color: #808000; font-weight: bold\">       • </span>Network with NVIDIA employees on LinkedIn or via industry events.                                         \n",
       "<span style=\"color: #808000; text-decoration-color: #808000; font-weight: bold\">       • </span>Refine interview answers using the STAR method (Situation, Task, Action, Result).                         \n",
       "\n",
       "<span style=\"color: #808000; text-decoration-color: #808000\">───────────────────────────────────────────────────────────────────────────────────────────────────────────────────</span>\n",
       "                                             <span style=\"font-weight: bold\">4. Bonus Tips for Success</span>                                             \n",
       "\n",
       "<span style=\"color: #808000; text-decoration-color: #808000; font-weight: bold\"> • </span><span style=\"font-weight: bold\">Tailor Your Resume</span>: Highlight roles where you integrated AI/ML into business processes (e.g., automation, data  \n",
       "<span style=\"color: #808000; text-decoration-color: #808000; font-weight: bold\">   </span>pipelines).                                                                                                     \n",
       "<span style=\"color: #808000; text-decoration-color: #808000; font-weight: bold\"> • </span><span style=\"font-weight: bold\">Leverage NVIDIA Resources</span>:                                                                                      \n",
       "<span style=\"color: #808000; text-decoration-color: #808000; font-weight: bold\">    • </span>Watch NVIDIA’s AI in finance webinars (e.g., <a href=\"https://resources.nvidia.com/en-us-her-industry-web-page/top-5-tips-ai-job-ma\" target=\"_blank\"><span style=\"color: #000080; text-decoration-color: #000080; text-decoration: underline\">NVIDIA Experts Share Tips</span></a>).                                     \n",
       "<span style=\"color: #808000; text-decoration-color: #808000; font-weight: bold\">    • </span>Study NVIDIA’s ML interview prep guide (e.g., <a href=\"https://www.interviewnode.com/post/ace-your-nvidia-ml-interview-top-25-questions-and-expert-answers\" target=\"_blank\"><span style=\"color: #000080; text-decoration-color: #000080; text-decoration: underline\">InterviewNode’s NVIDIA ML Interview Guide</span></a>).                    \n",
       "<span style=\"color: #808000; text-decoration-color: #808000; font-weight: bold\"> • </span><span style=\"font-weight: bold\">Showcase Collaboration</span>: Emphasize experience working with finance teams or IT to onboard data tools.            \n",
       "<span style=\"color: #808000; text-decoration-color: #808000; font-weight: bold\"> • </span><span style=\"font-weight: bold\">Practice Security &amp; Compliance</span>: Be ready to explain how you’d secure financial data in Databricks (e.g.,        \n",
       "<span style=\"color: #808000; text-decoration-color: #808000; font-weight: bold\">   </span>encryption, access controls).                                                                                   \n",
       "\n",
       "<span style=\"color: #808000; text-decoration-color: #808000\">───────────────────────────────────────────────────────────────────────────────────────────────────────────────────</span>\n",
       "                                                  <span style=\"font-weight: bold\">5. Final Notes</span>                                                   \n",
       "\n",
       "<span style=\"color: #808000; text-decoration-color: #808000; font-weight: bold\"> • </span><span style=\"font-weight: bold\">Salary Range</span>: $152,000–$230,000 USD (plus equity/benefits) – align your negotiation strategy with your          \n",
       "<span style=\"color: #808000; text-decoration-color: #808000; font-weight: bold\">   </span>experience.                                                                                                     \n",
       "<span style=\"color: #808000; text-decoration-color: #808000; font-weight: bold\"> • </span><span style=\"font-weight: bold\">Remote Flexibility</span>: Highlight your ability to work independently and manage distributed teams.                  \n",
       "\n",
       "By following this plan, you’ll build the technical depth, business intuition, and interview confidence needed to   \n",
       "excel in this role. Stay consistent, and focus on demonstrating how your skills align with NVIDIA’s mission to     \n",
       "enable AI-driven finance innovation!                                                                               \n",
       "\n",
       "<span style=\"color: #808000; text-decoration-color: #808000\">───────────────────────────────────────────────────────────────────────────────────────────────────────────────────</span>\n",
       "<span style=\"font-weight: bold\">Key Takeaway</span>: Combine technical rigor (Databricks, Python, SQL) with finance-specific knowledge (compliance,       \n",
       "automation) and practice articulating your impact clearly. Good luck! 🚀                                           \n",
       "</pre>\n"
      ],
      "text/plain": [
       "\n",
       "First, I need to structure the answer based on the job requirements. The role requires data engineering,           \n",
       "automation, project management, and skills in SQL, Python, Databricks. The responsibilities involve guiding finance\n",
       "teams, implementing AI tools, secure data integration, etc.                                                        \n",
       "\n",
       "The preparation time should account for the candidate's current skill level. Since it's a mid to senior role, maybe\n",
       "8-12 weeks for someone with relevant experience. But I should mention that it might vary.                          \n",
       "\n",
       "Daily schedule: Split into technical, business, and interview practice. Maybe 4-5 hours a day. Week 1-2: Focus on  \n",
       "technical skills. Week 3-4: Business processes and finance-specific knowledge. Weeks 5-8: Mock interviews and      \n",
       "networking.                                                                                                        \n",
       "\n",
       "Tips: Tailor the resume to the job description, highlight relevant projects, practice explaining technical         \n",
       "concepts, understand NVIDIA's tech stack, prepare for behavioral questions, and study machine learning fundamentals\n",
       "if needed.                                                                                                         \n",
       "\n",
       "Check if the resources from the collected data can be used. The NVIDIA tips suggest reading the job description and\n",
       "practicing technical skills. The interviewnode link mentions ML fundamentals and understanding the role.           \n",
       "\n",
       "Make sure to include the salary info and mention the equity and benefits as a motivator. Also, note the remote     \n",
       "option and location.                                                                                               \n",
       "\n",
       "Need to ensure that the schedule is realistic, not too intense. Also, include tips on networking and staying       \n",
       "updated with AI trends in finance. Maybe recommend Databricks certifications or courses if the candidate is weak in\n",
       "that area.                                                                                                         \n",
       "\n",
       "Avoid making the schedule too rigid but provide a structure. Emphasize the importance of both technical and soft   \n",
       "skills since communication is a key requirement.                                                                   \n",
       "\n",
       "Check for any missing info in the collected data. The job description is a bit brief, so maybe infer some          \n",
       "responsibilities from the role description. For example, secure data integration might involve knowledge of        \n",
       "compliance regulations, which is a good point to include in the preparation.                                       \n",
       "\n",
       "Also, the candidate needs to understand how AI is applied in finance, so suggesting reading case studies or        \n",
       "whitepapers on AI in financial processes could be helpful.                                                         \n",
       "\n",
       "\n",
       "Finally, wrap it up with a summary of key points and encouragement to stay consistent with the preparation plan.   \n",
       "\n",
       "\u001b[1mComprehensive Guide to Applying for NVIDIA’s AI Enabling Specialist (Finance) Role\u001b[0m                                 \n",
       "\u001b[3mPreparation Plan, Daily Schedule, and Key Tips\u001b[0m                                                                     \n",
       "\n",
       "\u001b[33m───────────────────────────────────────────────────────────────────────────────────────────────────────────────────\u001b[0m\n",
       "                                       \u001b[1m1. Total Recommended Preparation Time\u001b[0m                                       \n",
       "\n",
       "\u001b[1m8–12 weeks\u001b[0m (depending on current skill level and experience). This timeline balances deep technical preparation,   \n",
       "project-specific knowledge, and interview practice.                                                                \n",
       "\n",
       "\u001b[33m───────────────────────────────────────────────────────────────────────────────────────────────────────────────────\u001b[0m\n",
       "                                         \u001b[1m2. Key Requirements & Focus Areas\u001b[0m                                         \n",
       "\n",
       "Based on the job description, prioritize these areas:                                                              \n",
       "\n",
       "\u001b[1;33m • \u001b[0m\u001b[1mTechnical Skills\u001b[0m: SQL, Python, Databricks (or similar platforms), data engineering, automation, and machine     \n",
       "\u001b[1;33m   \u001b[0mlearning (ML).                                                                                                  \n",
       "\u001b[1;33m • \u001b[0m\u001b[1mBusiness Acumen\u001b[0m: Finance processes, data-driven decision-making, and secure data integration.                   \n",
       "\u001b[1;33m • \u001b[0m\u001b[1mSoft Skills\u001b[0m: Communication, project management, and collaboration with cross-functional teams.                  \n",
       "\u001b[1;33m • \u001b[0m\u001b[1mCertifications\u001b[0m: Databricks certification, cloud platforms (Azure/AWS), or ML frameworks (e.g., TensorFlow,      \n",
       "\u001b[1;33m   \u001b[0mPyTorch).                                                                                                       \n",
       "\n",
       "\u001b[33m───────────────────────────────────────────────────────────────────────────────────────────────────────────────────\u001b[0m\n",
       "                                  \u001b[1m3. Daily Preparation Schedule (Day 1–12 Weeks)\u001b[0m                                   \n",
       "\n",
       "\u001b[1mAssumes 4–5 hours/day, 5–6 days/week.\u001b[0m                                                                              \n",
       "\n",
       "                                          \u001b[1;2mWeek 1–2: Technical Foundations\u001b[0m                                          \n",
       "\n",
       "\u001b[1;33m • \u001b[0m\u001b[1mDaily Focus\u001b[0m: Strengthen core technical skills.                                                                  \n",
       "\u001b[1;33m   \u001b[0m\u001b[1;33m • \u001b[0m\u001b[1mMorning (2 hours)\u001b[0m:                                                                                           \n",
       "\u001b[1;33m   \u001b[0m\u001b[1;33m   \u001b[0m\u001b[1;33m • \u001b[0mSQL/Python practice (LeetCode, HackerRank, or Kaggle kernels).                                            \n",
       "\u001b[1;33m   \u001b[0m\u001b[1;33m   \u001b[0m\u001b[1;33m • \u001b[0mDatabricks tutorials (NVIDIA’s tech stack, Azure Databricks documentation).                               \n",
       "\u001b[1;33m   \u001b[0m\u001b[1;33m • \u001b[0m\u001b[1mAfternoon (2 hours)\u001b[0m:                                                                                         \n",
       "\u001b[1;33m   \u001b[0m\u001b[1;33m   \u001b[0m\u001b[1;33m • \u001b[0mReview ML concepts (scikit-learn, ML pipelines, RAG, AI agents).                                          \n",
       "\u001b[1;33m   \u001b[0m\u001b[1;33m   \u001b[0m\u001b[1;33m • \u001b[0mStudy NVIDIA’s AI tools (e.g., CUDA, TensorRT, RAPIDS) if relevant.                                       \n",
       "\u001b[1;33m   \u001b[0m\u001b[1;33m • \u001b[0m\u001b[1mEvening (1 hour)\u001b[0m:                                                                                            \n",
       "\u001b[1;33m   \u001b[0m\u001b[1;33m   \u001b[0m\u001b[1;33m • \u001b[0mWork on a personal project (e.g., automate financial data pipelines using Databricks).                    \n",
       "\n",
       "                                       \u001b[1;2mWeek 3–4: Finance & Business Context\u001b[0m                                        \n",
       "\n",
       "\u001b[1;33m • \u001b[0m\u001b[1mDaily Focus\u001b[0m: Bridge technical skills with finance applications.                                                 \n",
       "\u001b[1;33m   \u001b[0m\u001b[1;33m • \u001b[0m\u001b[1mMorning (1.5 hours)\u001b[0m:                                                                                         \n",
       "\u001b[1;33m   \u001b[0m\u001b[1;33m   \u001b[0m\u001b[1;33m • \u001b[0mResearch AI applications in finance (e.g., fraud detection, risk modeling, automation).                   \n",
       "\u001b[1;33m   \u001b[0m\u001b[1;33m   \u001b[0m\u001b[1;33m • \u001b[0mStudy compliance frameworks (GDPR, SOX) for secure data integration.                                      \n",
       "\u001b[1;33m   \u001b[0m\u001b[1;33m • \u001b[0m\u001b[1mAfternoon (2 hours)\u001b[0m:                                                                                         \n",
       "\u001b[1;33m   \u001b[0m\u001b[1;33m   \u001b[0m\u001b[1;33m • \u001b[0mAnalyze NVIDIA’s finance use cases (if available) or case studies on AI in finance.                       \n",
       "\u001b[1;33m   \u001b[0m\u001b[1;33m   \u001b[0m\u001b[1;33m • \u001b[0mPractice explaining technical concepts to non-technical stakeholders.                                     \n",
       "\u001b[1;33m   \u001b[0m\u001b[1;33m • \u001b[0m\u001b[1mEvening (1 hour)\u001b[0m:                                                                                            \n",
       "\u001b[1;33m   \u001b[0m\u001b[1;33m   \u001b[0m\u001b[1;33m • \u001b[0mUpdate resume to highlight finance-relevant projects (e.g., “Designed an automated reporting system for a \n",
       "\u001b[1;33m   \u001b[0m\u001b[1;33m   \u001b[0m\u001b[1;33m   \u001b[0mfinancial client using Python and Databricks”).                                                           \n",
       "\n",
       "                                     \u001b[1;2mWeek 5–8: Interview Practice & Networking\u001b[0m                                     \n",
       "\n",
       "\u001b[1;33m • \u001b[0m\u001b[1mDaily Focus\u001b[0m: Mock interviews, behavioral prep, and industry alignment.                                          \n",
       "\u001b[1;33m   \u001b[0m\u001b[1;33m • \u001b[0m\u001b[1mMorning (1.5 hours)\u001b[0m:                                                                                         \n",
       "\u001b[1;33m   \u001b[0m\u001b[1;33m   \u001b[0m\u001b[1;33m • \u001b[0mMock technical interviews (focus on Databricks, SQL, and ML).                                             \n",
       "\u001b[1;33m   \u001b[0m\u001b[1;33m   \u001b[0m\u001b[1;33m • \u001b[0mReview NVIDIA’s “Top 5 Tips for AI Jobs” (emphasize articulating technical experience).                   \n",
       "\u001b[1;33m   \u001b[0m\u001b[1;33m • \u001b[0m\u001b[1mAfternoon (2 hours)\u001b[0m:                                                                                         \n",
       "\u001b[1;33m   \u001b[0m\u001b[1;33m   \u001b[0m\u001b[1;33m • \u001b[0mPractice behavioral questions (e.g., “Describe a time you led a cross-functional project”).               \n",
       "\u001b[1;33m   \u001b[0m\u001b[1;33m   \u001b[0m\u001b[1;33m • \u001b[0mStudy NVIDIA’s culture and recent AI/finance innovations (e.g., their work on AI-driven financial         \n",
       "\u001b[1;33m   \u001b[0m\u001b[1;33m   \u001b[0m\u001b[1;33m   \u001b[0manalytics).                                                                                               \n",
       "\u001b[1;33m   \u001b[0m\u001b[1;33m • \u001b[0m\u001b[1mEvening (1 hour)\u001b[0m:                                                                                            \n",
       "\u001b[1;33m   \u001b[0m\u001b[1;33m   \u001b[0m\u001b[1;33m • \u001b[0mNetwork with NVIDIA employees on LinkedIn or via industry events.                                         \n",
       "\u001b[1;33m   \u001b[0m\u001b[1;33m   \u001b[0m\u001b[1;33m • \u001b[0mRefine interview answers using the STAR method (Situation, Task, Action, Result).                         \n",
       "\n",
       "\u001b[33m───────────────────────────────────────────────────────────────────────────────────────────────────────────────────\u001b[0m\n",
       "                                             \u001b[1m4. Bonus Tips for Success\u001b[0m                                             \n",
       "\n",
       "\u001b[1;33m • \u001b[0m\u001b[1mTailor Your Resume\u001b[0m: Highlight roles where you integrated AI/ML into business processes (e.g., automation, data  \n",
       "\u001b[1;33m   \u001b[0mpipelines).                                                                                                     \n",
       "\u001b[1;33m • \u001b[0m\u001b[1mLeverage NVIDIA Resources\u001b[0m:                                                                                      \n",
       "\u001b[1;33m   \u001b[0m\u001b[1;33m • \u001b[0mWatch NVIDIA’s AI in finance webinars (e.g., \u001b]8;id=707199;https://resources.nvidia.com/en-us-her-industry-web-page/top-5-tips-ai-job-ma\u001b\\\u001b[4;34mNVIDIA Experts Share Tips\u001b[0m\u001b]8;;\u001b\\).                                     \n",
       "\u001b[1;33m   \u001b[0m\u001b[1;33m • \u001b[0mStudy NVIDIA’s ML interview prep guide (e.g., \u001b]8;id=919127;https://www.interviewnode.com/post/ace-your-nvidia-ml-interview-top-25-questions-and-expert-answers\u001b\\\u001b[4;34mInterviewNode’s NVIDIA ML Interview Guide\u001b[0m\u001b]8;;\u001b\\).                    \n",
       "\u001b[1;33m • \u001b[0m\u001b[1mShowcase Collaboration\u001b[0m: Emphasize experience working with finance teams or IT to onboard data tools.            \n",
       "\u001b[1;33m • \u001b[0m\u001b[1mPractice Security & Compliance\u001b[0m: Be ready to explain how you’d secure financial data in Databricks (e.g.,        \n",
       "\u001b[1;33m   \u001b[0mencryption, access controls).                                                                                   \n",
       "\n",
       "\u001b[33m───────────────────────────────────────────────────────────────────────────────────────────────────────────────────\u001b[0m\n",
       "                                                  \u001b[1m5. Final Notes\u001b[0m                                                   \n",
       "\n",
       "\u001b[1;33m • \u001b[0m\u001b[1mSalary Range\u001b[0m: $152,000–$230,000 USD (plus equity/benefits) – align your negotiation strategy with your          \n",
       "\u001b[1;33m   \u001b[0mexperience.                                                                                                     \n",
       "\u001b[1;33m • \u001b[0m\u001b[1mRemote Flexibility\u001b[0m: Highlight your ability to work independently and manage distributed teams.                  \n",
       "\n",
       "By following this plan, you’ll build the technical depth, business intuition, and interview confidence needed to   \n",
       "excel in this role. Stay consistent, and focus on demonstrating how your skills align with NVIDIA’s mission to     \n",
       "enable AI-driven finance innovation!                                                                               \n",
       "\n",
       "\u001b[33m───────────────────────────────────────────────────────────────────────────────────────────────────────────────────\u001b[0m\n",
       "\u001b[1mKey Takeaway\u001b[0m: Combine technical rigor (Databricks, Python, SQL) with finance-specific knowledge (compliance,       \n",
       "automation) and practice articulating your impact clearly. Good luck! 🚀                                           \n"
      ]
     },
     "metadata": {},
     "output_type": "display_data"
    }
   ],
   "source": [
    "# Test with job-related queries\n",
    "job_query = \"\"\"\n",
    "Analyze the AI Enabling Specialist job at NVIDIA. \n",
    "Provide guidance for someone applying to this position, including the total recommended preparation time, including daily interview preparation schedule and tips.\n",
    "Use day 1 as a starting point.\n",
    "\n",
    "\"\"\"\n",
    "\n",
    "console.print(f\"[bold green]Testing with job data:[/bold green] '{job_query}'\\n\")\n",
    "\n",
    "initial_input = {\n",
    "    \"user_input\": job_query, \n",
    "    \"intermediate_messages\": [],\n",
    "    \"messages\": []\n",
    "}\n",
    "\n",
    "final_output = planner_agent.invoke(initial_input)\n",
    "console.print(\"\\n--- [bold green]Final Output[/bold green] ---\")\n",
    "console.print(Markdown(final_output['final_output']))"
   ]
  },
  {
   "cell_type": "code",
   "execution_count": null,
   "id": "d4b624e6",
   "metadata": {},
   "outputs": [],
   "source": []
  },
  {
   "cell_type": "code",
   "execution_count": null,
   "id": "a5f2ce95",
   "metadata": {},
   "outputs": [],
   "source": [
    "\n"
   ]
  }
 ],
 "metadata": {
  "kernelspec": {
   "display_name": "agents",
   "language": "python",
   "name": "python3"
  },
  "language_info": {
   "codemirror_mode": {
    "name": "ipython",
    "version": 3
   },
   "file_extension": ".py",
   "mimetype": "text/x-python",
   "name": "python",
   "nbconvert_exporter": "python",
   "pygments_lexer": "ipython3",
   "version": "3.12.11"
  }
 },
 "nbformat": 4,
 "nbformat_minor": 5
}
